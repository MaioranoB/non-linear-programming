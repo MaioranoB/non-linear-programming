{
 "cells": [
  {
   "cell_type": "markdown",
   "metadata": {},
   "source": [
    "# COS360 - Otimização 2020.2\n",
    "## Bernardo Maiorano e Igor Amaral"
   ]
  },
  {
   "cell_type": "markdown",
   "metadata": {},
   "source": [
    "$$\n",
    "\\begin{align}\n",
    "\\displaystyle \\min \\ \\  &f(x)\\\\\n",
    "\\text{sujeito a:}\\  \\ \\ &x \\in \\Omega\\\\\n",
    "\\\\\n",
    "f(x_1,x_2,x_3,x_4) &= -30x_1 - 10x_2 - 40x_3 - 12x_4\\\\\n",
    "\\Omega = \\{x \\in \\mathbb{R}^4 :& \\  {33x_1 + 14x_2 + 47x_3 + 11x_4 \\le 59\\}} \\\\\n",
    "\\end{align}\n",
    "$$"
   ]
  },
  {
   "cell_type": "markdown",
   "metadata": {},
   "source": [
    "##  Estudo da função"
   ]
  },
  {
   "cell_type": "code",
   "execution_count": 1,
   "metadata": {},
   "outputs": [],
   "source": [
    "import numpy as np\n",
    "import pandas as pd"
   ]
  },
  {
   "cell_type": "code",
   "execution_count": 2,
   "metadata": {},
   "outputs": [],
   "source": [
    "coefficients = np.array([-30, -10, -40, -12])\n",
    "omega = np.array([33, 14, 47, 11])\n",
    "\n",
    "def f(x):\n",
    "    return x @ coefficients\n",
    "\n",
    "def G(x):\n",
    "    # Restrição de desigualdade\n",
    "    return omega @ x <= 59\n",
    "\n",
    "# Gradiente constante\n",
    "grad_f = coefficients"
   ]
  },
  {
   "cell_type": "markdown",
   "metadata": {},
   "source": [
    "Temos uma função linear no R4, com apenas uma restrição igualmente linear. Dessa forma, temos uma função convexa, já que a mesma é linear (um plano no R4). Isso garante que, caso haja um mínimo local contido no espaço do domínio, esse mínimo também será global.  Temos também que, pelo fato da função ser linear, teremos um gradiente constante Grad_f = (-30,-10,-40,-12). Além disso, a Hessiana dessa função é uma matriz 4x4 vazia.  Pelo fato desta ser uma função linear, podemos resolver a mesma pelo Simplex. Dessa forma, com a restrição dada e sabendo que no simplex x1, x2, x3 e x4 >= 0, temos o seguinte valor ótimo:"
   ]
  },
  {
   "cell_type": "code",
   "execution_count": 3,
   "metadata": {},
   "outputs": [
    {
     "data": {
      "text/plain": [
       "-64.36363636363636"
      ]
     },
     "execution_count": 3,
     "metadata": {},
     "output_type": "execute_result"
    }
   ],
   "source": [
    "# mínimo pelo simplex: x = [0,0,0,59/11]\n",
    "f([0,0,0,59/11])"
   ]
  },
  {
   "cell_type": "markdown",
   "metadata": {},
   "source": [
    "### Penalidade Exterior"
   ]
  },
  {
   "cell_type": "markdown",
   "metadata": {},
   "source": [
    "Pelo fato desta função ser restrita, para poder utilizar os métodos de programação não-linear, é necessário transformar o problema em um problema irrestrito. Faremos isso a seguir."
   ]
  },
  {
   "cell_type": "markdown",
   "metadata": {},
   "source": [
    "Para transformar nosso problema restrito em irrestrito. Temos que usar o método de penalidade externa ou interna.\n",
    "$ \\\\ $\n",
    "Assim, o problema transformado seria: $\\min \\phi(x,\\rho) = f(x) + \\rho P(x)$ onde $\\rho$ é o parâmetro de penalidade e $P(x)$ é a função de penalidade.\n",
    "\n",
    "Vamos usar a função de penalidade externa: $\\displaystyle P(x) = \\sum_{h \\in H} h(x)^2 + \\sum_{g \\in G} \\max[0, g(x)]^2$\n",
    "\n",
    "Para o novo problema temos o gradiente: $\\nabla \\varPhi(x,\\rho) = \\nabla f(x) + \\rho\\nabla P(x) = \\begin{cases}\n",
    "    \\nabla f(x) &\\text{se}_\\ g(x) \\le 0\\\\\n",
    "    \\nabla f(x) + \\rho\\nabla P(x) &\\text{se}_\\ g(x) > 0 \\\\\n",
    "\\end{cases}$\n",
    "\n",
    "No nosso caso, a função objetivo torna-se: $ \\\\ $\n",
    "$$\n",
    "\\phi(x,\\rho) = {-30x_1-10x_2-40x_3-12x_4} + \\rho \\max[0,{33x_1+14x_2+47x_3+11x_4-59}]^2\n",
    "$$\n",
    "\n"
   ]
  },
  {
   "cell_type": "code",
   "execution_count": 4,
   "metadata": {},
   "outputs": [],
   "source": [
    "rho = 10000000\n",
    "\n",
    "def P_Exterior(x, p = rho):\n",
    "    return f(x) + p*pow(max(0, omega@x-59),2)\n",
    "\n",
    "# https://www.wolframalpha.com/input/?i=derivate+%28p*%28max+%280%2C+%2833x%2B14y%2B47z%2B11w-59%29%29%29%5E2\n",
    "# grad_Pext = grad_f + p*grad(Penalidade)\n",
    "def grad_Pext(x, p= rho):\n",
    "    if G(x): return grad_f\n",
    "    return np.array([(grad_f[i] + (p*2*omega[i]*(x@omega-59))) for i in range(4)])\n",
    "\n",
    "# https://www.wolframalpha.com/input/?i=hessian+%28%28-30x-10y-40z-12w%29+%2B+%28p*%2833x%2B14y%2B47z%2B11w-59%29%5E2%29%29+with+respect+to+%28x%2Cy%2Cz%2Cw%29\n",
    "# L4 = 3L1 => det = 0 => matriz não inversivel\n",
    "def hessian_Pext(x, p= rho):\n",
    "    hessian = np.zeros((4,4))\n",
    "    if G(x): return hessian\n",
    "    for i in range(4):\n",
    "        hessian[i] = [(p*2*omega[i]*omega[j]) for j in range(4)]\n",
    "    return hessian"
   ]
  },
  {
   "cell_type": "code",
   "execution_count": 5,
   "metadata": {},
   "outputs": [
    {
     "name": "stdout",
     "output_type": "stream",
     "text": [
      "[[2178.  924. 3102.  726.]\n",
      " [ 924.  392. 1316.  308.]\n",
      " [3102. 1316. 4418. 1034.]\n",
      " [ 726.  308. 1034.  242.]]\n",
      "\n",
      "L4*3 = [2178.  924. 3102.  726.] = L1\n"
     ]
    }
   ],
   "source": [
    "z = np.array([0,0,0,50],  dtype=np.float64)\n",
    "hessian = hessian_Pext(z, p=1)\n",
    "print(hessian)\n",
    "print(\"\\nL4*3 = {} = L1\".format(hessian[3]*3))"
   ]
  },
  {
   "cell_type": "markdown",
   "metadata": {},
   "source": [
    "Pelo fato da Hessiana não ser uma matriz inversível, não podemos aplicar o Método de Newton para essa função.\n",
    "\n",
    "Além disso, para o Método Quase-Newton, teríamos que fazer a diferença dos gradientes, porém para a função dada, conforme explicado anteriormente, o gradiente é constante, portando sua diferença é sempre zero. Isso também nos impede de usar o Método Quase-Newton. Portanto usaremos apenas o Método do Gradiente."
   ]
  },
  {
   "cell_type": "markdown",
   "metadata": {},
   "source": [
    "## Implementação"
   ]
  },
  {
   "cell_type": "code",
   "execution_count": 6,
   "metadata": {},
   "outputs": [],
   "source": [
    "def armijo(x, direction, f, Grad):\n",
    "    t = 1\n",
    "    gamma = 0.8\n",
    "    n = 0.25\n",
    "    n_iter = 0\n",
    "    \n",
    "    while (f(x + t*direction) > f(x) + n*t*Grad(x)@direction):\n",
    "        t = t*gamma\n",
    "        n_iter += 1\n",
    "        \n",
    "    # print(\"Armijo:\",t,n_iter)\n",
    "    return t, n_iter"
   ]
  },
  {
   "cell_type": "code",
   "execution_count": 7,
   "metadata": {},
   "outputs": [],
   "source": [
    "def stop(x, prev_x, n_iter, max_iters = 50):\n",
    "    return (np.allclose(x, prev_x, atol=1e-16) or n_iter > max_iters)# and G(x)\n",
    " \n",
    "def Gradiente(x, f, Grad):\n",
    "\n",
    "    n_iter = 0\n",
    "    prev_x = float('inf')*np.ones(4)\n",
    "    while not stop(x,prev_x,n_iter):\n",
    "        direction = -Grad(x)\n",
    "        t, calls_armijo = armijo(x,direction, f, Grad)\n",
    "        prev_x = x\n",
    "        x = x + t*direction\n",
    "        n_iter += 1\n",
    "    \n",
    "    return x, f(x), n_iter, calls_armijo"
   ]
  },
  {
   "cell_type": "code",
   "execution_count": 8,
   "metadata": {},
   "outputs": [],
   "source": [
    "def quase_Newton(x,f,Grad):\n",
    "\n",
    "    n_iter = 0\n",
    "    prev_x = float('inf')*np.ones(4)\n",
    "    H = np.identity(4,dtype=np.float64)\n",
    "    while not stop(x,prev_x,n_iter):\n",
    "        direction = -(H@Grad(x))\n",
    "        t,calls_armijo = armijo(x,direction, f, Grad)\n",
    "        prev_x = x\n",
    "        x = x + t*direction\n",
    "        n_iter += 1\n",
    "        # atualizar H (definida positiva)\n",
    "        p = x - prev_x\n",
    "        q = Grad(x) - Grad(prev_x)\n",
    "#         part1 = np.outer(p,p)/(p@q)\n",
    "#         part2 = np.dot(np.outer(np.dot(H,p),p),H)\n",
    "#         part3 = p@H@p\n",
    "#         H = H + part1 -(part2/part3)\n",
    "        \n",
    "    return x, f(x), n_iter, calls_armijo"
   ]
  },
  {
   "cell_type": "code",
   "execution_count": 9,
   "metadata": {},
   "outputs": [
    {
     "data": {
      "text/plain": [
       "(array([0.56333545, 0.18777848, 0.75111393, 0.22533418]),\n",
       " -51.526415524699985,\n",
       " 6,\n",
       " 86)"
      ]
     },
     "execution_count": 9,
     "metadata": {},
     "output_type": "execute_result"
    }
   ],
   "source": [
    "x = np.array([0,0,0,0], dtype=np.float64)\n",
    "Gradiente(x, P_Exterior, grad_Pext)"
   ]
  },
  {
   "cell_type": "code",
   "execution_count": 10,
   "metadata": {},
   "outputs": [
    {
     "data": {
      "text/plain": [
       "(array([0.56333545, 0.18777848, 0.75111393, 0.22533418]),\n",
       " -51.526415524699985,\n",
       " 6,\n",
       " 86)"
      ]
     },
     "execution_count": 10,
     "metadata": {},
     "output_type": "execute_result"
    }
   ],
   "source": [
    "x = np.array([0,0,0,0], dtype=np.float64)\n",
    "quase_Newton(x, P_Exterior, grad_Pext)"
   ]
  },
  {
   "cell_type": "code",
   "execution_count": 11,
   "metadata": {},
   "outputs": [
    {
     "data": {
      "text/html": [
       "<div>\n",
       "<style scoped>\n",
       "    .dataframe tbody tr th:only-of-type {\n",
       "        vertical-align: middle;\n",
       "    }\n",
       "\n",
       "    .dataframe tbody tr th {\n",
       "        vertical-align: top;\n",
       "    }\n",
       "\n",
       "    .dataframe thead th {\n",
       "        text-align: right;\n",
       "    }\n",
       "</style>\n",
       "<table border=\"1\" class=\"dataframe\">\n",
       "  <thead>\n",
       "    <tr style=\"text-align: right;\">\n",
       "      <th></th>\n",
       "      <th>X0</th>\n",
       "      <th>Iter.</th>\n",
       "      <th>Call.  Armijo</th>\n",
       "      <th>Opt.  Point</th>\n",
       "      <th>Opt.  Value</th>\n",
       "    </tr>\n",
       "  </thead>\n",
       "  <tbody>\n",
       "    <tr>\n",
       "      <th>0</th>\n",
       "      <td>[0.8636258104508732, 0.9205955797254299, 0.550...</td>\n",
       "      <td>7</td>\n",
       "      <td>75</td>\n",
       "      <td>[0.7599273896183965, 0.8665190209043065, 0.392...</td>\n",
       "      <td>-50.811624</td>\n",
       "    </tr>\n",
       "    <tr>\n",
       "      <th>1</th>\n",
       "      <td>[0.34436343197610275, 0.5926338746503121, 0.08...</td>\n",
       "      <td>5</td>\n",
       "      <td>77</td>\n",
       "      <td>[0.5784875283523079, 0.6706752401090473, 0.397...</td>\n",
       "      <td>-52.872555</td>\n",
       "    </tr>\n",
       "    <tr>\n",
       "      <th>2</th>\n",
       "      <td>[0.9169385946236072, 0.9153807768061393, 0.710...</td>\n",
       "      <td>7</td>\n",
       "      <td>110</td>\n",
       "      <td>[0.7519481212590501, 0.8293416558767518, 0.459...</td>\n",
       "      <td>-50.303451</td>\n",
       "    </tr>\n",
       "    <tr>\n",
       "      <th>3</th>\n",
       "      <td>[0.039969832251191106, 0.8591492752982302, 0.6...</td>\n",
       "      <td>6</td>\n",
       "      <td>83</td>\n",
       "      <td>[0.17333584386762002, 0.9036046125037066, 0.81...</td>\n",
       "      <td>-49.366693</td>\n",
       "    </tr>\n",
       "    <tr>\n",
       "      <th>4</th>\n",
       "      <td>[0.4952413558208262, 0.4736846049324066, 0.573...</td>\n",
       "      <td>5</td>\n",
       "      <td>75</td>\n",
       "      <td>[0.5522835343117517, 0.49269866442938176, 0.64...</td>\n",
       "      <td>-51.130199</td>\n",
       "    </tr>\n",
       "    <tr>\n",
       "      <th>5</th>\n",
       "      <td>[0.33158012395077496, 0.3802850746842713, 0.33...</td>\n",
       "      <td>6</td>\n",
       "      <td>78</td>\n",
       "      <td>[0.5111076170845619, 0.4401275723955337, 0.573...</td>\n",
       "      <td>-52.510289</td>\n",
       "    </tr>\n",
       "    <tr>\n",
       "      <th>6</th>\n",
       "      <td>[0.31906633286222863, 0.7879372501544627, 0.33...</td>\n",
       "      <td>6</td>\n",
       "      <td>76</td>\n",
       "      <td>[0.4727718773756171, 0.8391724316589255, 0.543...</td>\n",
       "      <td>-50.975092</td>\n",
       "    </tr>\n",
       "    <tr>\n",
       "      <th>7</th>\n",
       "      <td>[0.3485909724321393, 0.9759637653411825, 0.213...</td>\n",
       "      <td>7</td>\n",
       "      <td>77</td>\n",
       "      <td>[0.5597166665137792, 1.046338996701729, 0.4945...</td>\n",
       "      <td>-49.912883</td>\n",
       "    </tr>\n",
       "    <tr>\n",
       "      <th>8</th>\n",
       "      <td>[0.8300429508048457, 0.11410157086166506, 0.10...</td>\n",
       "      <td>6</td>\n",
       "      <td>82</td>\n",
       "      <td>[1.021406812335683, 0.17788952470527755, 0.358...</td>\n",
       "      <td>-53.256335</td>\n",
       "    </tr>\n",
       "    <tr>\n",
       "      <th>9</th>\n",
       "      <td>[0.5889118959809787, 0.04516907476252274, 0.94...</td>\n",
       "      <td>7</td>\n",
       "      <td>84</td>\n",
       "      <td>[0.4531343170814991, -0.025636122962656674, 0....</td>\n",
       "      <td>-53.480090</td>\n",
       "    </tr>\n",
       "  </tbody>\n",
       "</table>\n",
       "</div>"
      ],
      "text/plain": [
       "                                                  X0  Iter.  Call.  Armijo  \\\n",
       "0  [0.8636258104508732, 0.9205955797254299, 0.550...      7             75   \n",
       "1  [0.34436343197610275, 0.5926338746503121, 0.08...      5             77   \n",
       "2  [0.9169385946236072, 0.9153807768061393, 0.710...      7            110   \n",
       "3  [0.039969832251191106, 0.8591492752982302, 0.6...      6             83   \n",
       "4  [0.4952413558208262, 0.4736846049324066, 0.573...      5             75   \n",
       "5  [0.33158012395077496, 0.3802850746842713, 0.33...      6             78   \n",
       "6  [0.31906633286222863, 0.7879372501544627, 0.33...      6             76   \n",
       "7  [0.3485909724321393, 0.9759637653411825, 0.213...      7             77   \n",
       "8  [0.8300429508048457, 0.11410157086166506, 0.10...      6             82   \n",
       "9  [0.5889118959809787, 0.04516907476252274, 0.94...      7             84   \n",
       "\n",
       "                                         Opt.  Point  Opt.  Value  \n",
       "0  [0.7599273896183965, 0.8665190209043065, 0.392...   -50.811624  \n",
       "1  [0.5784875283523079, 0.6706752401090473, 0.397...   -52.872555  \n",
       "2  [0.7519481212590501, 0.8293416558767518, 0.459...   -50.303451  \n",
       "3  [0.17333584386762002, 0.9036046125037066, 0.81...   -49.366693  \n",
       "4  [0.5522835343117517, 0.49269866442938176, 0.64...   -51.130199  \n",
       "5  [0.5111076170845619, 0.4401275723955337, 0.573...   -52.510289  \n",
       "6  [0.4727718773756171, 0.8391724316589255, 0.543...   -50.975092  \n",
       "7  [0.5597166665137792, 1.046338996701729, 0.4945...   -49.912883  \n",
       "8  [1.021406812335683, 0.17788952470527755, 0.358...   -53.256335  \n",
       "9  [0.4531343170814991, -0.025636122962656674, 0....   -53.480090  "
      ]
     },
     "execution_count": 11,
     "metadata": {},
     "output_type": "execute_result"
    }
   ],
   "source": [
    "n = 10\n",
    "results = []\n",
    "while n:\n",
    "    x0 = np.random.rand(4)\n",
    "    opt_point, opt_value, n_iter, calls_armijo = Gradiente(x0, P_Exterior, grad_Pext)\n",
    "    if G(opt_point):\n",
    "        results.append([x0,n_iter,calls_armijo,opt_point, opt_value])\n",
    "        n -= 1\n",
    "        \n",
    "df = pd.DataFrame(results, columns = ['X0','Iter.','Call.  Armijo','Opt.  Point','Opt.  Value'])\n",
    "df"
   ]
  },
  {
   "cell_type": "code",
   "execution_count": 12,
   "metadata": {},
   "outputs": [
    {
     "name": "stdout",
     "output_type": "stream",
     "text": [
      "False\n",
      "True [-47.43989681 -24.73892233 -72.17881914 487.56949843] -1293.0950877044731\n"
     ]
    }
   ],
   "source": [
    "x = np.array([0,0,0,500], dtype=np.float64)\n",
    "print(G(x))\n",
    "opt_point, opt_value, n_iter, calls_armijo = Gradiente(x, P_Exterior, grad_Pext)\n",
    "print(G(opt_point),opt_point,opt_value)"
   ]
  },
  {
   "cell_type": "code",
   "execution_count": 13,
   "metadata": {},
   "outputs": [
    {
     "name": "stdout",
     "output_type": "stream",
     "text": [
      "False\n",
      "True [-497.07034766 -307.0639715  -704.13431915 4895.95713283] -12603.362683130868\n"
     ]
    }
   ],
   "source": [
    "x = np.array([-100,-100,-100,5000], dtype=np.float64)\n",
    "print(G(x))\n",
    "opt_point, opt_value, n_iter, calls_armijo = Gradiente(x, P_Exterior, grad_Pext)\n",
    "print(G(opt_point),opt_point,opt_value)"
   ]
  }
 ],
 "metadata": {
  "kernelspec": {
   "display_name": "Python 3",
   "language": "python",
   "name": "python3"
  },
  "language_info": {
   "codemirror_mode": {
    "name": "ipython",
    "version": 3
   },
   "file_extension": ".py",
   "mimetype": "text/x-python",
   "name": "python",
   "nbconvert_exporter": "python",
   "pygments_lexer": "ipython3",
   "version": "3.8.5"
  }
 },
 "nbformat": 4,
 "nbformat_minor": 4
}
