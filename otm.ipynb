{
 "cells": [
  {
   "cell_type": "markdown",
   "metadata": {},
   "source": [
    "# COS360 - Otimização 2020.2\n",
    "# Bernardo Maiorano e Igor Amaral"
   ]
  },
  {
   "cell_type": "markdown",
   "metadata": {},
   "source": [
    "1) fazer um estudo da função"
   ]
  },
  {
   "cell_type": "code",
   "execution_count": 7,
   "metadata": {},
   "outputs": [],
   "source": [
    "import numpy as np"
   ]
  },
  {
   "cell_type": "code",
   "execution_count": 8,
   "metadata": {},
   "outputs": [],
   "source": [
    "coefficients = np.array([-30, -10, -40, -12])\n",
    "\n",
    "def f(x):\n",
    "    return x @ coefficients\n",
    "\n",
    "omega = np.array([33, 14, 47, 11])\n",
    "def G(x):\n",
    "    \"\"\"\n",
    "    Restrição de desigualdade\n",
    "    \n",
    "    \"\"\"\n",
    "    return omega @ x <= 59\n",
    "\n",
    "# Gradientes constantes\n",
    "grad_f = np.array([-30,-10,-40,-12])\n",
    "grad_g = np.array([33, 14, 47, 11])"
   ]
  },
  {
   "cell_type": "markdown",
   "metadata": {},
   "source": [
    "Penalidade Exterior"
   ]
  },
  {
   "cell_type": "code",
   "execution_count": 9,
   "metadata": {},
   "outputs": [],
   "source": [
    "# a nova função: f(x) + p{max[0,G(x)]}^2\n",
    "def P_Exterior(x, p = 100):\n",
    "    # p: parâmetro de penalidade\n",
    "    return f(x) + p*pow(max(0, omega@x-59),2)\n",
    "\n",
    "# grad_P = "
   ]
  },
  {
   "cell_type": "code",
   "execution_count": 10,
   "metadata": {},
   "outputs": [
    {
     "data": {
      "text/plain": [
       "(-218, False)"
      ]
     },
     "execution_count": 10,
     "metadata": {},
     "output_type": "execute_result"
    }
   ],
   "source": [
    "f([1,2,3,4]), G([2,0,0,0])"
   ]
  },
  {
   "cell_type": "code",
   "execution_count": 11,
   "metadata": {},
   "outputs": [
    {
     "data": {
      "text/plain": [
       "(-180, 3)"
      ]
     },
     "execution_count": 11,
     "metadata": {},
     "output_type": "execute_result"
    }
   ],
   "source": [
    "a = np.array([1,0,0,0])\n",
    "b = np.array([1,2,0,0])\n",
    "\n",
    "f(a+3*b), 3*a@b"
   ]
  },
  {
   "cell_type": "code",
   "execution_count": 12,
   "metadata": {},
   "outputs": [],
   "source": [
    "def armijo(x, direction, P = P_Exterior):\n",
    "    '''\n",
    "    '''\n",
    "    t = 1\n",
    "    gamma = 0.8\n",
    "    n = 0.25\n",
    "    n_iter = 0\n",
    "    \n",
    "    # mudar o gradiente de f para o gradiente de P\n",
    "    while (P(x + t*direction) > P(x) + n*t*grad_f@direction) and n_iter < 100:\n",
    "        t = t*gamma\n",
    "        n_iter += 1\n",
    "#     print(\"Armijo:\",t,n_iter)\n",
    "    return t, n_iter"
   ]
  },
  {
   "cell_type": "code",
   "execution_count": 13,
   "metadata": {},
   "outputs": [
    {
     "data": {
      "text/plain": [
       "(0.5120000000000001, 3)"
      ]
     },
     "execution_count": 13,
     "metadata": {},
     "output_type": "execute_result"
    }
   ],
   "source": [
    "x = np.array([0,0,0,0])\n",
    "direct = np.array([1,1,1,1])\n",
    "armijo(x,direct)"
   ]
  },
  {
   "cell_type": "code",
   "execution_count": 14,
   "metadata": {},
   "outputs": [
    {
     "data": {
      "text/plain": [
       "(59.007312420000005, False)"
      ]
     },
     "execution_count": 14,
     "metadata": {},
     "output_type": "execute_result"
    }
   ],
   "source": [
    "o = np.array([0.11464652, 0.03821551, 1.15286203, 0.04585861])\n",
    "o@omega,G(o)"
   ]
  },
  {
   "cell_type": "code",
   "execution_count": 15,
   "metadata": {},
   "outputs": [],
   "source": [
    "def Gradiente(x0, epsilon = 1e-05, max_iters = 500):\n",
    "    \n",
    "    #ponto inicial fora do viável\n",
    "    if G(x0) == False:\n",
    "        print('fora do viável')\n",
    "        return\n",
    "    \n",
    "    k = 0\n",
    "    n_iter = 0\n",
    "    while n_iter < max_iters: # and algumOutroCriterioDeParada:\n",
    "        direction = -grad_f\n",
    "        t,_ = armijo(x0,direction)\n",
    "        x0 = x0 + t*direction\n",
    "        k += 1\n",
    "        n_iter += 1\n",
    "        #print(f(x0),x0)\n",
    "    return x0, f(x0), n_iter"
   ]
  },
  {
   "cell_type": "code",
   "execution_count": 16,
   "metadata": {},
   "outputs": [
    {
     "data": {
      "text/plain": [
       "(array([0.11464652, 0.03821551, 1.15286203, 0.04585861]),\n",
       " -50.48633532290501,\n",
       " 500)"
      ]
     },
     "execution_count": 16,
     "metadata": {},
     "output_type": "execute_result"
    }
   ],
   "source": [
    "Gradiente(np.array([0,0,1,0]))"
   ]
  },
  {
   "cell_type": "code",
   "execution_count": 17,
   "metadata": {},
   "outputs": [],
   "source": [
    "def stop(x,y,j):\n",
    "    return np.allclose(x, y, atol=1e-16) or j > 20"
   ]
  }
 ],
 "metadata": {
  "kernelspec": {
   "display_name": "Python 3",
   "language": "python",
   "name": "python3"
  },
  "language_info": {
   "codemirror_mode": {
    "name": "ipython",
    "version": 3
   },
   "file_extension": ".py",
   "mimetype": "text/x-python",
   "name": "python",
   "nbconvert_exporter": "python",
   "pygments_lexer": "ipython3",
   "version": "3.8.5"
  }
 },
 "nbformat": 4,
 "nbformat_minor": 4
}
